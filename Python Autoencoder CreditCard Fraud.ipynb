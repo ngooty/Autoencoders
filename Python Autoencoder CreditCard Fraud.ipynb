{
 "cells": [
  {
   "cell_type": "code",
   "execution_count": 1,
   "metadata": {},
   "outputs": [
    {
     "name": "stderr",
     "output_type": "stream",
     "text": [
      "Using TensorFlow backend.\n"
     ]
    }
   ],
   "source": [
    "import pandas as pd\n",
    "import numpy as np\n",
    "import pickle\n",
    "import matplotlib.pyplot as plt\n",
    "from scipy import stats\n",
    "import tensorflow as tf\n",
    "import seaborn as sns\n",
    "from pylab import rcParams\n",
    "from sklearn.model_selection import train_test_split\n",
    "from keras.models import Model, load_model\n",
    "from keras.layers import Input, Dense\n",
    "from keras.callbacks import ModelCheckpoint, TensorBoard\n",
    "from keras import regularizers\n",
    "%matplotlib inline\n",
    "sns.set(style='whitegrid', palette='muted', font_scale=1.5)\n",
    "rcParams['figure.figsize'] = 14, 8\n",
    "RANDOM_SEED = 42\n",
    "LABELS = [\"Normal\", \"Fraud\"]"
   ]
  },
  {
   "cell_type": "code",
   "execution_count": 2,
   "metadata": {},
   "outputs": [],
   "source": [
    "df=pd.read_csv('creditcard.csv')"
   ]
  },
  {
   "cell_type": "code",
   "execution_count": 4,
   "metadata": {},
   "outputs": [
    {
     "data": {
      "text/plain": [
       "(284807, 31)"
      ]
     },
     "execution_count": 4,
     "metadata": {},
     "output_type": "execute_result"
    }
   ],
   "source": [
    "df.shape"
   ]
  },
  {
   "cell_type": "code",
   "execution_count": 5,
   "metadata": {},
   "outputs": [
    {
     "data": {
      "text/plain": [
       "False"
      ]
     },
     "execution_count": 5,
     "metadata": {},
     "output_type": "execute_result"
    }
   ],
   "source": [
    "df.isnull().values.any()"
   ]
  },
  {
   "cell_type": "code",
   "execution_count": 40,
   "metadata": {},
   "outputs": [
    {
     "data": {
      "image/png": "[encoded data removed]",
      "text/plain": [
       "<Figure size 432x288 with 1 Axes>"
      ]
     },
     "metadata": {
      "needs_background": "light"
     },
     "output_type": "display_data"
    }
   ],
   "source": [
    "#count_classes = pd.value_counts(df['Class'], sort = True)\n",
    "count_classes=df['Class'].value_counts()\n",
    "count_classes.plot(kind = 'bar', rot=0)\n",
    "plt.text(0,0,count_classes[0],fontsize=30,horizontalalignment='center')\n",
    "plt.text(1,1,count_classes[1],fontsize=30,horizontalalignment='center')\n",
    "#plt.plot(count_classes,kind='bar')\n",
    "plt.title(\"Transaction class distribution\")\n",
    "plt.xticks(range(2), LABELS)\n",
    "plt.xlabel(\"Class\")\n",
    "plt.ylabel(\"Frequency\");"
   ]
  },
  {
   "cell_type": "code",
   "execution_count": 41,
   "metadata": {},
   "outputs": [],
   "source": [
    "from sklearn.preprocessing import StandardScaler\n",
    "data = df.drop(['Time'], axis=1)\n",
    "data['Amount'] = StandardScaler().fit_transform(data['Amount'].values.reshape(-1, 1))"
   ]
  },
  {
   "cell_type": "code",
   "execution_count": 50,
   "metadata": {},
   "outputs": [
    {
     "data": {
      "text/plain": [
       "(227451, 29)"
      ]
     },
     "execution_count": 50,
     "metadata": {},
     "output_type": "execute_result"
    }
   ],
   "source": [
    "xtrain, xtest = train_test_split(data, test_size=0.2, random_state=RANDOM_SEED)\n",
    "xtrain = xtrain[xtrain.Class == 0]\n",
    "xtrain = xtrain.drop(['Class'], axis=1)\n",
    "ytest = xtest['Class']\n",
    "xtest = xtest.drop(['Class'], axis=1)\n",
    "xtrain = xtrain.values\n",
    "xtest = xtest.values\n",
    "xtrain.shape"
   ]
  },
  {
   "cell_type": "code",
   "execution_count": 43,
   "metadata": {},
   "outputs": [],
   "source": [
    "input_dim = xtrain.shape[1]\n",
    "encoding_dim = 14\n",
    "input_layer = Input(shape=(input_dim, ))\n",
    "encoder = Dense(encoding_dim, activation=\"tanh\", \n",
    "                activity_regularizer=regularizers.l1(10e-5))(input_layer)\n",
    "encoder = Dense(int(encoding_dim / 2), activation=\"relu\")(encoder)\n",
    "decoder = Dense(int(encoding_dim / 2), activation='tanh')(encoder)\n",
    "decoder = Dense(input_dim, activation='relu')(decoder)\n",
    "autoencoder = Model(inputs=input_layer, outputs=decoder)"
   ]
  },
  {
   "cell_type": "code",
   "execution_count": 44,
   "metadata": {},
   "outputs": [
    {
     "name": "stdout",
     "output_type": "stream",
     "text": [
      "WARNING:tensorflow:From C:\\ProgramData\\Anaconda3\\lib\\site-packages\\keras\\backend\\tensorflow_backend.py:422: The name tf.global_variables is deprecated. Please use tf.compat.v1.global_variables instead.\n",
      "\n",
      "Train on 227451 samples, validate on 56962 samples\n",
      "Epoch 1/100\n",
      "227451/227451 [==============================] - 17s 77us/step - loss: 0.8115 - accuracy: 0.6003 - val_loss: 0.7896 - val_accuracy: 0.6520\n",
      "Epoch 2/100\n",
      "227451/227451 [==============================] - 15s 66us/step - loss: 0.7545 - accuracy: 0.6510 - val_loss: 0.7780 - val_accuracy: 0.6518\n",
      "Epoch 3/100\n",
      "227451/227451 [==============================] - 15s 67us/step - loss: 0.7443 - accuracy: 0.6497 - val_loss: 0.7696 - val_accuracy: 0.6483\n",
      "Epoch 4/100\n",
      "227451/227451 [==============================] - 15s 66us/step - loss: 0.7363 - accuracy: 0.6509 - val_loss: 0.7635 - val_accuracy: 0.6640\n",
      "Epoch 5/100\n",
      "227451/227451 [==============================] - 14s 63us/step - loss: 0.7320 - accuracy: 0.6557 - val_loss: 0.7674 - val_accuracy: 0.6441\n",
      "Epoch 6/100\n",
      "227451/227451 [==============================] - 14s 63us/step - loss: 0.7295 - accuracy: 0.6599 - val_loss: 0.7597 - val_accuracy: 0.6677\n",
      "Epoch 7/100\n",
      "227451/227451 [==============================] - 15s 66us/step - loss: 0.7273 - accuracy: 0.6634 - val_loss: 0.7587 - val_accuracy: 0.6643\n",
      "Epoch 8/100\n",
      "227451/227451 [==============================] - 15s 66us/step - loss: 0.7270 - accuracy: 0.6656 - val_loss: 0.7561 - val_accuracy: 0.6672\n",
      "Epoch 9/100\n",
      "227451/227451 [==============================] - 15s 65us/step - loss: 0.7247 - accuracy: 0.6678 - val_loss: 0.7563 - val_accuracy: 0.6645\n",
      "Epoch 10/100\n",
      "227451/227451 [==============================] - 14s 60us/step - loss: 0.7244 - accuracy: 0.6707 - val_loss: 0.7544 - val_accuracy: 0.6729\n",
      "Epoch 11/100\n",
      "227451/227451 [==============================] - 14s 61us/step - loss: 0.7235 - accuracy: 0.6711 - val_loss: 0.7709 - val_accuracy: 0.6513\n",
      "Epoch 12/100\n",
      "227451/227451 [==============================] - 14s 62us/step - loss: 0.7229 - accuracy: 0.6735 - val_loss: 0.7529 - val_accuracy: 0.6784\n",
      "Epoch 13/100\n",
      "227451/227451 [==============================] - 14s 64us/step - loss: 0.7228 - accuracy: 0.6768 - val_loss: 0.7540 - val_accuracy: 0.6782\n",
      "Epoch 14/100\n",
      "227451/227451 [==============================] - 15s 64us/step - loss: 0.7220 - accuracy: 0.6784 - val_loss: 0.7536 - val_accuracy: 0.6770\n",
      "Epoch 15/100\n",
      "227451/227451 [==============================] - 14s 62us/step - loss: 0.7217 - accuracy: 0.6795 - val_loss: 0.7529 - val_accuracy: 0.6817\n",
      "Epoch 16/100\n",
      "227451/227451 [==============================] - 14s 61us/step - loss: 0.7214 - accuracy: 0.6809 - val_loss: 0.7523 - val_accuracy: 0.6852\n",
      "Epoch 17/100\n",
      "227451/227451 [==============================] - 14s 61us/step - loss: 0.7214 - accuracy: 0.6816 - val_loss: 0.7577 - val_accuracy: 0.6865\n",
      "Epoch 18/100\n",
      "227451/227451 [==============================] - 15s 64us/step - loss: 0.7212 - accuracy: 0.6827 - val_loss: 0.7532 - val_accuracy: 0.6854\n",
      "Epoch 19/100\n",
      "227451/227451 [==============================] - 15s 65us/step - loss: 0.7211 - accuracy: 0.6829 - val_loss: 0.7529 - val_accuracy: 0.6872\n",
      "Epoch 20/100\n",
      "227451/227451 [==============================] - 15s 65us/step - loss: 0.7208 - accuracy: 0.6832 - val_loss: 0.7518 - val_accuracy: 0.6905\n",
      "Epoch 21/100\n",
      "227451/227451 [==============================] - 15s 66us/step - loss: 0.7205 - accuracy: 0.6831 - val_loss: 0.7535 - val_accuracy: 0.6880\n",
      "Epoch 22/100\n",
      "227451/227451 [==============================] - 14s 63us/step - loss: 0.7205 - accuracy: 0.6854 - val_loss: 0.7527 - val_accuracy: 0.6861\n",
      "Epoch 23/100\n",
      "227451/227451 [==============================] - 14s 62us/step - loss: 0.7199 - accuracy: 0.6862 - val_loss: 0.7576 - val_accuracy: 0.6856\n",
      "Epoch 24/100\n",
      "227451/227451 [==============================] - 15s 67us/step - loss: 0.7199 - accuracy: 0.6876 - val_loss: 0.7519 - val_accuracy: 0.6888\n",
      "Epoch 25/100\n",
      "227451/227451 [==============================] - 14s 62us/step - loss: 0.7203 - accuracy: 0.6889 - val_loss: 0.7510 - val_accuracy: 0.6943\n",
      "Epoch 26/100\n",
      "227451/227451 [==============================] - 15s 67us/step - loss: 0.7197 - accuracy: 0.6895 - val_loss: 0.7610 - val_accuracy: 0.6850\n",
      "Epoch 27/100\n",
      "227451/227451 [==============================] - 15s 66us/step - loss: 0.7189 - accuracy: 0.6896 - val_loss: 0.7503 - val_accuracy: 0.6907\n",
      "Epoch 28/100\n",
      "227451/227451 [==============================] - 15s 65us/step - loss: 0.7190 - accuracy: 0.6909 - val_loss: 0.7515 - val_accuracy: 0.6905\n",
      "Epoch 29/100\n",
      "227451/227451 [==============================] - 14s 63us/step - loss: 0.7191 - accuracy: 0.6912 - val_loss: 0.7495 - val_accuracy: 0.6942\n",
      "Epoch 30/100\n",
      "227451/227451 [==============================] - 14s 63us/step - loss: 0.7188 - accuracy: 0.6910 - val_loss: 0.7501 - val_accuracy: 0.6975\n",
      "Epoch 31/100\n",
      "227451/227451 [==============================] - 15s 66us/step - loss: 0.7188 - accuracy: 0.6928 - val_loss: 0.7548 - val_accuracy: 0.6846\n",
      "Epoch 32/100\n",
      "227451/227451 [==============================] - 15s 65us/step - loss: 0.7189 - accuracy: 0.6919 - val_loss: 0.7502 - val_accuracy: 0.6948\n",
      "Epoch 33/100\n",
      "227451/227451 [==============================] - 15s 65us/step - loss: 0.7184 - accuracy: 0.6933 - val_loss: 0.7513 - val_accuracy: 0.6959\n",
      "Epoch 34/100\n",
      "227451/227451 [==============================] - 15s 65us/step - loss: 0.7185 - accuracy: 0.6924 - val_loss: 0.7504 - val_accuracy: 0.6899\n",
      "Epoch 35/100\n",
      "227451/227451 [==============================] - 14s 63us/step - loss: 0.7186 - accuracy: 0.6932 - val_loss: 0.7535 - val_accuracy: 0.6953\n",
      "Epoch 36/100\n",
      "227451/227451 [==============================] - 14s 62us/step - loss: 0.7190 - accuracy: 0.6933 - val_loss: 0.7504 - val_accuracy: 0.6989\n",
      "Epoch 37/100\n",
      "227451/227451 [==============================] - 15s 66us/step - loss: 0.7183 - accuracy: 0.6938 - val_loss: 0.7555 - val_accuracy: 0.6855\n",
      "Epoch 38/100\n",
      "227451/227451 [==============================] - 17s 77us/step - loss: 0.7183 - accuracy: 0.6941 - val_loss: 0.7509 - val_accuracy: 0.7025\n",
      "Epoch 39/100\n",
      "227451/227451 [==============================] - 20s 86us/step - loss: 0.7183 - accuracy: 0.6942 - val_loss: 0.7500 - val_accuracy: 0.7020\n",
      "Epoch 40/100\n",
      "227451/227451 [==============================] - 18s 78us/step - loss: 0.7179 - accuracy: 0.6952 - val_loss: 0.7497 - val_accuracy: 0.6936\n",
      "Epoch 41/100\n",
      "227451/227451 [==============================] - 17s 73us/step - loss: 0.7181 - accuracy: 0.6947 - val_loss: 0.7490 - val_accuracy: 0.6938\n",
      "Epoch 42/100\n",
      "227451/227451 [==============================] - 15s 68us/step - loss: 0.7183 - accuracy: 0.6943 - val_loss: 0.7495 - val_accuracy: 0.7008\n",
      "Epoch 43/100\n",
      "227451/227451 [==============================] - 21s 92us/step - loss: 0.7180 - accuracy: 0.6958 - val_loss: 0.7495 - val_accuracy: 0.6977\n",
      "Epoch 44/100\n",
      "227451/227451 [==============================] - 14s 62us/step - loss: 0.7179 - accuracy: 0.6964 - val_loss: 0.7493 - val_accuracy: 0.6977\n",
      "Epoch 45/100\n",
      "227451/227451 [==============================] - 18s 80us/step - loss: 0.7173 - accuracy: 0.6964 - val_loss: 0.7503 - val_accuracy: 0.6963\n",
      "Epoch 46/100\n",
      "227451/227451 [==============================] - 18s 79us/step - loss: 0.7176 - accuracy: 0.6965 - val_loss: 0.7502 - val_accuracy: 0.6956\n",
      "Epoch 47/100\n",
      "227451/227451 [==============================] - 19s 82us/step - loss: 0.7178 - accuracy: 0.6969 - val_loss: 0.7479 - val_accuracy: 0.6996\n",
      "Epoch 48/100\n",
      "227451/227451 [==============================] - 19s 83us/step - loss: 0.7176 - accuracy: 0.6974 - val_loss: 0.7499 - val_accuracy: 0.7028\n",
      "Epoch 49/100\n",
      "227451/227451 [==============================] - 16s 72us/step - loss: 0.7176 - accuracy: 0.6984 - val_loss: 0.7499 - val_accuracy: 0.7017\n",
      "Epoch 50/100\n",
      "227451/227451 [==============================] - 14s 61us/step - loss: 0.7171 - accuracy: 0.6983 - val_loss: 0.7483 - val_accuracy: 0.7048\n",
      "Epoch 51/100\n",
      "227451/227451 [==============================] - 14s 63us/step - loss: 0.7172 - accuracy: 0.6989 - val_loss: 0.7501 - val_accuracy: 0.6984\n",
      "Epoch 52/100\n",
      "227451/227451 [==============================] - 14s 63us/step - loss: 0.7168 - accuracy: 0.6980 - val_loss: 0.7481 - val_accuracy: 0.7046\n",
      "Epoch 53/100\n",
      "227451/227451 [==============================] - 14s 61us/step - loss: 0.7170 - accuracy: 0.6983 - val_loss: 0.7542 - val_accuracy: 0.6992\n",
      "Epoch 54/100\n",
      "227451/227451 [==============================] - 14s 62us/step - loss: 0.7170 - accuracy: 0.6982 - val_loss: 0.7470 - val_accuracy: 0.7014\n",
      "Epoch 55/100\n",
      "227451/227451 [==============================] - 14s 61us/step - loss: 0.7171 - accuracy: 0.6980 - val_loss: 0.7494 - val_accuracy: 0.6977\n",
      "Epoch 56/100\n",
      "227451/227451 [==============================] - 14s 64us/step - loss: 0.7171 - accuracy: 0.6980 - val_loss: 0.7516 - val_accuracy: 0.7044\n",
      "Epoch 57/100\n",
      "227451/227451 [==============================] - 15s 65us/step - loss: 0.7167 - accuracy: 0.6987 - val_loss: 0.7481 - val_accuracy: 0.6972\n",
      "Epoch 58/100\n",
      "227451/227451 [==============================] - 14s 62us/step - loss: 0.7171 - accuracy: 0.6987 - val_loss: 0.7480 - val_accuracy: 0.7072\n",
      "Epoch 59/100\n",
      "227451/227451 [==============================] - 14s 62us/step - loss: 0.7166 - accuracy: 0.6982 - val_loss: 0.7486 - val_accuracy: 0.7046\n",
      "Epoch 60/100\n",
      "227451/227451 [==============================] - 14s 61us/step - loss: 0.7165 - accuracy: 0.6981 - val_loss: 0.7481 - val_accuracy: 0.7040\n",
      "Epoch 61/100\n",
      "227451/227451 [==============================] - 14s 61us/step - loss: 0.7167 - accuracy: 0.6985 - val_loss: 0.7512 - val_accuracy: 0.7011\n",
      "Epoch 62/100\n",
      "227451/227451 [==============================] - 14s 62us/step - loss: 0.7163 - accuracy: 0.6992 - val_loss: 0.7480 - val_accuracy: 0.7037\n",
      "Epoch 63/100\n",
      "227451/227451 [==============================] - 14s 61us/step - loss: 0.7166 - accuracy: 0.6984 - val_loss: 0.7474 - val_accuracy: 0.7069\n",
      "Epoch 64/100\n",
      "227451/227451 [==============================] - 14s 61us/step - loss: 0.7159 - accuracy: 0.6985 - val_loss: 0.7473 - val_accuracy: 0.7018\n",
      "Epoch 65/100\n",
      "227451/227451 [==============================] - 14s 61us/step - loss: 0.7164 - accuracy: 0.6989 - val_loss: 0.7472 - val_accuracy: 0.7011\n",
      "Epoch 66/100\n",
      "227451/227451 [==============================] - 14s 61us/step - loss: 0.7165 - accuracy: 0.6985 - val_loss: 0.7472 - val_accuracy: 0.7028\n",
      "Epoch 67/100\n",
      "227451/227451 [==============================] - 14s 61us/step - loss: 0.7162 - accuracy: 0.6983 - val_loss: 0.7524 - val_accuracy: 0.6974\n",
      "Epoch 68/100\n",
      "227451/227451 [==============================] - 14s 61us/step - loss: 0.7165 - accuracy: 0.6985 - val_loss: 0.7486 - val_accuracy: 0.7022\n",
      "Epoch 69/100\n",
      "227451/227451 [==============================] - 14s 61us/step - loss: 0.7165 - accuracy: 0.6987 - val_loss: 0.7511 - val_accuracy: 0.6994\n",
      "Epoch 70/100\n",
      "227451/227451 [==============================] - 14s 61us/step - loss: 0.7159 - accuracy: 0.6992 - val_loss: 0.7479 - val_accuracy: 0.7046\n",
      "Epoch 71/100\n",
      "227451/227451 [==============================] - 14s 62us/step - loss: 0.7163 - accuracy: 0.6984 - val_loss: 0.7485 - val_accuracy: 0.7057\n",
      "Epoch 72/100\n",
      "227451/227451 [==============================] - 14s 63us/step - loss: 0.7157 - accuracy: 0.6988 - val_loss: 0.7477 - val_accuracy: 0.6998\n",
      "Epoch 73/100\n",
      "227451/227451 [==============================] - 14s 63us/step - loss: 0.7160 - accuracy: 0.6981 - val_loss: 0.7466 - val_accuracy: 0.7039\n",
      "Epoch 74/100\n",
      "227451/227451 [==============================] - 14s 61us/step - loss: 0.7160 - accuracy: 0.6985 - val_loss: 0.7472 - val_accuracy: 0.7070\n",
      "Epoch 75/100\n",
      "227451/227451 [==============================] - 14s 62us/step - loss: 0.7158 - accuracy: 0.6988 - val_loss: 0.7478 - val_accuracy: 0.6954\n",
      "Epoch 76/100\n",
      "227451/227451 [==============================] - 14s 61us/step - loss: 0.7159 - accuracy: 0.6996 - val_loss: 0.7470 - val_accuracy: 0.7058\n",
      "Epoch 77/100\n",
      "227451/227451 [==============================] - 14s 61us/step - loss: 0.7160 - accuracy: 0.6982 - val_loss: 0.7485 - val_accuracy: 0.6954\n",
      "Epoch 78/100\n",
      "227451/227451 [==============================] - 14s 62us/step - loss: 0.7155 - accuracy: 0.7003 - val_loss: 0.7478 - val_accuracy: 0.7043\n",
      "Epoch 79/100\n",
      "227451/227451 [==============================] - 14s 62us/step - loss: 0.7160 - accuracy: 0.6992 - val_loss: 0.7493 - val_accuracy: 0.6981\n",
      "Epoch 80/100\n",
      "227451/227451 [==============================] - 14s 62us/step - loss: 0.7158 - accuracy: 0.6986 - val_loss: 0.7483 - val_accuracy: 0.7076\n",
      "Epoch 81/100\n",
      "227451/227451 [==============================] - 14s 59us/step - loss: 0.7156 - accuracy: 0.7003 - val_loss: 0.7481 - val_accuracy: 0.6996\n",
      "Epoch 82/100\n",
      "227451/227451 [==============================] - 14s 61us/step - loss: 0.7154 - accuracy: 0.6988 - val_loss: 0.7511 - val_accuracy: 0.7103\n",
      "Epoch 83/100\n",
      "227451/227451 [==============================] - 15s 64us/step - loss: 0.7156 - accuracy: 0.7005 - val_loss: 0.7510 - val_accuracy: 0.6992\n",
      "Epoch 84/100\n",
      "227451/227451 [==============================] - 14s 62us/step - loss: 0.7152 - accuracy: 0.7003 - val_loss: 0.7497 - val_accuracy: 0.6960\n",
      "Epoch 85/100\n",
      "227451/227451 [==============================] - 14s 63us/step - loss: 0.7156 - accuracy: 0.6994 - val_loss: 0.7462 - val_accuracy: 0.7057\n",
      "Epoch 86/100\n",
      "227451/227451 [==============================] - 15s 64us/step - loss: 0.7147 - accuracy: 0.6993 - val_loss: 0.7448 - val_accuracy: 0.7001\n",
      "Epoch 87/100\n",
      "227451/227451 [==============================] - 14s 61us/step - loss: 0.7154 - accuracy: 0.6997 - val_loss: 0.7457 - val_accuracy: 0.7037\n",
      "Epoch 88/100\n",
      "227451/227451 [==============================] - 14s 62us/step - loss: 0.7153 - accuracy: 0.6992 - val_loss: 0.7452 - val_accuracy: 0.7108\n",
      "Epoch 89/100\n",
      "227451/227451 [==============================] - 14s 61us/step - loss: 0.7147 - accuracy: 0.6997 - val_loss: 0.7451 - val_accuracy: 0.7072\n",
      "Epoch 90/100\n",
      "227451/227451 [==============================] - 14s 61us/step - loss: 0.7150 - accuracy: 0.6992 - val_loss: 0.7470 - val_accuracy: 0.7048\n",
      "Epoch 91/100\n",
      "227451/227451 [==============================] - 14s 61us/step - loss: 0.7153 - accuracy: 0.6989 - val_loss: 0.7446 - val_accuracy: 0.7015\n",
      "Epoch 92/100\n",
      "227451/227451 [==============================] - 14s 63us/step - loss: 0.7143 - accuracy: 0.6995 - val_loss: 0.7467 - val_accuracy: 0.7075\n",
      "Epoch 93/100\n",
      "227451/227451 [==============================] - 14s 60us/step - loss: 0.7143 - accuracy: 0.6993 - val_loss: 0.7467 - val_accuracy: 0.7055\n",
      "Epoch 94/100\n",
      "227451/227451 [==============================] - 14s 63us/step - loss: 0.7142 - accuracy: 0.6997 - val_loss: 0.7447 - val_accuracy: 0.7075\n",
      "Epoch 95/100\n",
      "227451/227451 [==============================] - 14s 61us/step - loss: 0.7140 - accuracy: 0.7007 - val_loss: 0.7458 - val_accuracy: 0.7054\n",
      "Epoch 96/100\n",
      "227451/227451 [==============================] - 14s 63us/step - loss: 0.7147 - accuracy: 0.6997 - val_loss: 0.7441 - val_accuracy: 0.7051\n",
      "Epoch 97/100\n",
      "227451/227451 [==============================] - 14s 63us/step - loss: 0.7144 - accuracy: 0.7008 - val_loss: 0.7472 - val_accuracy: 0.7029\n",
      "Epoch 98/100\n",
      "227451/227451 [==============================] - 14s 62us/step - loss: 0.7139 - accuracy: 0.6998 - val_loss: 0.7449 - val_accuracy: 0.7008\n",
      "Epoch 99/100\n",
      "227451/227451 [==============================] - 14s 62us/step - loss: 0.7145 - accuracy: 0.7005 - val_loss: 0.7457 - val_accuracy: 0.6852\n",
      "Epoch 100/100\n",
      "227451/227451 [==============================] - 14s 62us/step - loss: 0.7142 - accuracy: 0.7007 - val_loss: 0.7490 - val_accuracy: 0.6999\n"
     ]
    }
   ],
   "source": [
    "nb_epoch = 100\n",
    "batch_size = 32\n",
    "\n",
    "autoencoder.compile(optimizer='adam', \n",
    "                    loss='mean_squared_error', \n",
    "                    metrics=['accuracy'])\n",
    "\n",
    "history = autoencoder.fit(xtrain, xtrain,\n",
    "                    epochs=nb_epoch,\n",
    "                    batch_size=batch_size,\n",
    "                    shuffle=True,\n",
    "                    validation_data=(xtest, xtest),\n",
    "                    verbose=1).history"
   ]
  },
  {
   "cell_type": "code",
   "execution_count": 45,
   "metadata": {},
   "outputs": [
    {
     "data": {
      "image/png": "[encoded data removed]",
      "text/plain": [
       "<Figure size 432x288 with 1 Axes>"
      ]
     },
     "metadata": {
      "needs_background": "light"
     },
     "output_type": "display_data"
    }
   ],
   "source": [
    "plt.plot(history['loss'])\n",
    "plt.plot(history['val_loss'])\n",
    "plt.title('model loss')\n",
    "plt.ylabel('loss')\n",
    "plt.xlabel('epoch')\n",
    "plt.legend(['train', 'test'], loc='upper right');"
   ]
  },
  {
   "cell_type": "code",
   "execution_count": 47,
   "metadata": {},
   "outputs": [],
   "source": [
    "predictions = autoencoder.predict(xtest)"
   ]
  },
  {
   "cell_type": "code",
   "execution_count": 48,
   "metadata": {},
   "outputs": [],
   "source": [
    "from sklearn.metrics import (confusion_matrix, precision_recall_curve, auc,\n",
    "                             roc_curve, recall_score, classification_report, f1_score,\n",
    "                             precision_recall_fscore_support)"
   ]
  },
  {
   "cell_type": "code",
   "execution_count": 55,
   "metadata": {},
   "outputs": [],
   "source": [
    "mse = np.mean(np.power(xtest - predictions, 2), axis=1)\n",
    "error_df = pd.DataFrame({'reconstruction_error': mse,\n",
    "                        'true_class': ytest})"
   ]
  },
  {
   "cell_type": "code",
   "execution_count": null,
   "metadata": {},
   "outputs": [],
   "source": [
    "pred=(predictions >0.5)\n",
    "ytest=ytest.astype('float64')\n",
    "confusion_matrix(ytest,predictions,normalize=False )"
   ]
  },
  {
   "cell_type": "code",
   "execution_count": 62,
   "metadata": {},
   "outputs": [],
   "source": [
    "threshold = 2.9"
   ]
  },
  {
   "cell_type": "code",
   "execution_count": 63,
   "metadata": {},
   "outputs": [
    {
     "data": {
      "image/png": "[encoded data removed]",
      "text/plain": [
       "<Figure size 864x864 with 2 Axes>"
      ]
     },
     "metadata": {
      "needs_background": "light"
     },
     "output_type": "display_data"
    }
   ],
   "source": [
    "y_pred = [1 if e > threshold else 0 for e in error_df.reconstruction_error.values]\n",
    "conf_matrix = confusion_matrix(error_df.true_class, y_pred)\n",
    "\n",
    "plt.figure(figsize=(12, 12))\n",
    "sns.heatmap(conf_matrix, xticklabels=LABELS, yticklabels=LABELS, annot=True, fmt=\"d\");\n",
    "plt.title(\"Confusion matrix\")\n",
    "plt.ylabel('True class')\n",
    "plt.xlabel('Predicted class')\n",
    "plt.show()"
   ]
  },
  {
   "cell_type": "code",
   "execution_count": null,
   "metadata": {},
   "outputs": [],
   "source": []
  }
 ],
 "metadata": {
  "kernelspec": {
   "display_name": "Python 3",
   "language": "python",
   "name": "python3"
  },
  "language_info": {
   "codemirror_mode": {
    "name": "ipython",
    "version": 3
   },
   "file_extension": ".py",
   "mimetype": "text/x-python",
   "name": "python",
   "nbconvert_exporter": "python",
   "pygments_lexer": "ipython3",
   "version": "3.7.3"
  }
 },
 "nbformat": 4,
 "nbformat_minor": 4
}
